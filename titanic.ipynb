{
 "cells": [
  {
   "cell_type": "code",
   "execution_count": 8,
   "metadata": {},
   "outputs": [
    {
     "name": "stdout",
     "output_type": "stream",
     "text": [
      "Iteration    0: Cost nan\n",
      "Iteration  100: Cost nan\n",
      "Iteration  200: Cost nan\n",
      "Iteration  300: Cost nan\n",
      "Iteration  400: Cost nan\n",
      "Iteration  500: Cost nan\n",
      "Iteration  600: Cost nan\n",
      "Iteration  700: Cost nan\n",
      "Iteration  800: Cost nan\n",
      "Iteration  900: Cost nan\n"
     ]
    }
   ],
   "source": [
    "# import sys\n",
    "# sys.path.append(\"C:\\\\Users\\\\asch7\\\\OneDrive\\\\Desktop\\\\ML\\\\utilities\")\n",
    "from utilities import logistic_model\n",
    "import pandas as pd\n",
    "import numpy as np\n",
    "from sklearn.model_selection import train_test_split\n",
    "\n",
    "# Load the CSV data into a pandas DataFrame\n",
    "df = pd.read_csv('titanic/train.csv')\n",
    "\n",
    "# Select only numeric columns for X\n",
    "X = df.select_dtypes(include=[np.number])\n",
    "\n",
    "# If the target column got removed, add it back\n",
    "if 'Survived' not in X.columns:\n",
    "    X['Survived'] = df['Survived']\n",
    "\n",
    "# Now split the target from the features\n",
    "y = X['Survived']\n",
    "X = X.drop('Survived', axis=1)\n",
    "\n",
    "# Assume the first column is the target and the rest are features\n",
    "# y = df.iloc[:, 1]\n",
    "# X = df.iloc[:, [0] + list(range(2, df.shape[1]))]\n",
    "\n",
    "# Split the data into training and testing sets\n",
    "#X_train, X_test, y_train, y_test = train_test_split(X, y, test_size=0.2, random_state=42)\n",
    "\n",
    "X_train = X_train.to_numpy()\n",
    "y_train = y_train.to_numpy()\n",
    "X_test = X_test.to_numpy()\n",
    "y_test = y_test.to_numpy()\n",
    "\n",
    "classifier = logistic_model.LogisticClassifier(0.01, 1000, using_one_hot=False)\n",
    "model = classifier.fit(X, y)\n"
   ]
  }
 ],
 "metadata": {
  "kernelspec": {
   "display_name": "ML_env",
   "language": "python",
   "name": "python3"
  },
  "language_info": {
   "codemirror_mode": {
    "name": "ipython",
    "version": 3
   },
   "file_extension": ".py",
   "mimetype": "text/x-python",
   "name": "python",
   "nbconvert_exporter": "python",
   "pygments_lexer": "ipython3",
   "version": "3.11.9"
  }
 },
 "nbformat": 4,
 "nbformat_minor": 2
}
