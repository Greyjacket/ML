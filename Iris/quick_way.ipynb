{
 "cells": [
  {
   "cell_type": "markdown",
   "metadata": {},
   "source": [
    "Logistic regression is generally used for binary classification tasks, but it can also be adapted to handle multi-class classification problems, such as predicting the species of iris plants in the Iris dataset, which includes three categories: Iris Setosa, Iris Versicolor, and Iris Virginica.\n",
    "\n",
    "Adapting Logistic Regression for Multi-class Classification\n",
    "For datasets like the Iris dataset with more than two classes, you can use extensions of logistic regression, such as:\n",
    "\n",
    "One-vs-Rest (OvR) or One-vs-All (OvA):\n",
    "This method involves training a separate logistic regression classifier for each class to predict whether an instance belongs to that class or to any of the other classes. The class that has the highest probability from its respective logistic regression model is then chosen as the output class.\n",
    "Multinomial Logistic Regression:\n",
    "Also known as softmax regression when it's applied to the entire dataset (rather than fitting one binary model at a time like in OvR). This model directly models multi-class target variables without having to break the problem into multiple binary classification cases. It extends the logistic regression model to handle multiple classes. 2"
   ]
  },
  {
   "cell_type": "code",
   "execution_count": 6,
   "metadata": {},
   "outputs": [
    {
     "name": "stdout",
     "output_type": "stream",
     "text": [
      "Accuracy: 1.00\n"
     ]
    },
    {
     "name": "stderr",
     "output_type": "stream",
     "text": [
      "c:\\Users\\asch7\\OneDrive\\Desktop\\ML\\ML_env\\Lib\\site-packages\\sklearn\\linear_model\\_logistic.py:469: ConvergenceWarning: lbfgs failed to converge (status=1):\n",
      "STOP: TOTAL NO. of ITERATIONS REACHED LIMIT.\n",
      "\n",
      "Increase the number of iterations (max_iter) or scale the data as shown in:\n",
      "    https://scikit-learn.org/stable/modules/preprocessing.html\n",
      "Please also refer to the documentation for alternative solver options:\n",
      "    https://scikit-learn.org/stable/modules/linear_model.html#logistic-regression\n",
      "  n_iter_i = _check_optimize_result(\n"
     ]
    }
   ],
   "source": [
    "from sklearn.datasets import load_iris\n",
    "from sklearn.linear_model import LogisticRegression\n",
    "from sklearn.model_selection import train_test_split\n",
    "from sklearn.metrics import accuracy_score\n",
    "\n",
    "# Load the Iris dataset\n",
    "data = load_iris()\n",
    "X = data.data\n",
    "y = data.target\n",
    "\n",
    "# Split data into training and testing sets\n",
    "X_train, X_test, y_train, y_test = train_test_split(X, y, test_size=0.2, random_state=42)\n",
    "\n",
    "# Create a logistic regression model (multinomial logistic regression)\n",
    "model = LogisticRegression(multi_class='multinomial', solver='lbfgs', max_iter=100)\n",
    "\n",
    "# Fit the model on the training data\n",
    "model.fit(X_train, y_train)\n",
    "\n",
    "# Predict on the testing data\n",
    "y_pred = model.predict(X_test)\n",
    "\n",
    "# Evaluate the model\n",
    "accuracy = accuracy_score(y_test, y_pred)\n",
    "print(f'Accuracy: {accuracy:.2f}')"
   ]
  }
 ],
 "metadata": {
  "kernelspec": {
   "display_name": "ML_env",
   "language": "python",
   "name": "python3"
  },
  "language_info": {
   "codemirror_mode": {
    "name": "ipython",
    "version": 3
   },
   "file_extension": ".py",
   "mimetype": "text/x-python",
   "name": "python",
   "nbconvert_exporter": "python",
   "pygments_lexer": "ipython3",
   "version": "3.11.9"
  }
 },
 "nbformat": 4,
 "nbformat_minor": 2
}
