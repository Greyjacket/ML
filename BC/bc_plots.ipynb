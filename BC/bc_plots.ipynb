{
 "cells": [
  {
   "cell_type": "code",
   "execution_count": null,
   "metadata": {},
   "outputs": [],
   "source": [
    "from sklearn.datasets import load_breast_cancer\n",
    "import matplotlib.pyplot as plt\n",
    "import pandas as pd\n",
    "from sklearn import datasets\n",
    "\n",
    "data = load_breast_cancer()\n",
    "X = data.data  # features\n",
    "y = data.target  # target labels (0 for malignant, 1 for benign)\n",
    "\n",
    "# Create a DataFrame with the features\n",
    "df = pd.DataFrame(X, columns=data.feature_names)\n",
    "df['target'] = y\n",
    "\n",
    "fig, axs = plt.subplots(2, 3, figsize=(15, 10))\n",
    "\n",
    "# Plot each pair of features in a subplot\n",
    "for i, feature1 in enumerate(data.feature_names):\n",
    "    for j, feature2 in enumerate(data.feature_names):\n",
    "        if i < j:\n",
    "            scatter = axs[i // 2, i % 2].scatter(df[feature1], df[feature2], c=df['target'])\n",
    "            axs[i // 2, i % 2].set(xlabel=feature1, ylabel=feature2)\n",
    "\n",
    "# Add a legend\n",
    "legend1 = fig.legend(*scatter.legend_elements(), title=\"Classes\", loc=\"upper right\")\n",
    "fig.add_artist(legend1)\n",
    "\n",
    "plt.show()"
   ]
  },
  {
   "cell_type": "code",
   "execution_count": null,
   "metadata": {},
   "outputs": [],
   "source": [
    "import matplotlib.pyplot as plt\n",
    "import pandas as pd\n",
    "from sklearn import datasets\n",
    "from sklearn.decomposition import PCA\n",
    "\n",
    "# Load breast cancer dataset\n",
    "data = datasets.load_breast_cancer()\n",
    "X = data.data\n",
    "y = data.target\n",
    "\n",
    "# Apply PCA\n",
    "pca = PCA(n_components=2)\n",
    "X_pca = pca.fit_transform(X)\n",
    "\n",
    "# Create a DataFrame with the PCA results\n",
    "df = pd.DataFrame(X_pca, columns=['PC1', 'PC2'])\n",
    "df['target'] = y\n",
    "\n",
    "# Create a scatter plot\n",
    "plt.figure(figsize=(10, 7))\n",
    "scatter = plt.scatter(df['PC1'], df['PC2'], c=df['target'])\n",
    "plt.xlabel('PC1')\n",
    "plt.ylabel('PC2')\n",
    "\n",
    "# Add a legend\n",
    "legend1 = plt.legend(*scatter.legend_elements(), title=\"Classes\", loc=\"upper right\")\n",
    "plt.gca().add_artist(legend1)\n",
    "\n",
    "plt.show()"
   ]
  },
  {
   "cell_type": "code",
   "execution_count": null,
   "metadata": {},
   "outputs": [],
   "source": [
    "import matplotlib.pyplot as plt\n",
    "import pandas as pd\n",
    "from sklearn import datasets\n",
    "\n",
    "# Load breast cancer dataset\n",
    "data = datasets.load_breast_cancer()\n",
    "df = pd.DataFrame(data.data, columns=data.feature_names)\n",
    "df['target'] = data.target\n",
    "\n",
    "# Create a figure and a set of subplots\n",
    "fig, axs = plt.subplots(10, 3, figsize=(15, 20))\n",
    "\n",
    "# Plot a histogram for each feature\n",
    "for i, feature in enumerate(data.feature_names):\n",
    "    axs[i // 3, i % 3].hist(df[df['target'] == 0][feature], alpha=0.5, label='Malignant')\n",
    "    axs[i // 3, i % 3].hist(df[df['target'] == 1][feature], alpha=0.5, label='Benign')\n",
    "    axs[i // 3, i % 3].set(title=feature)\n",
    "\n",
    "# Add a legend\n",
    "handles, labels = axs[0, 0].get_legend_handles_labels()\n",
    "fig.legend(handles, labels, loc='upper right')\n",
    "\n",
    "plt.tight_layout()\n",
    "plt.show()"
   ]
  },
  {
   "cell_type": "code",
   "execution_count": null,
   "metadata": {},
   "outputs": [],
   "source": [
    "import numpy as np\n",
    "from sklearn.model_selection import train_test_split\n",
    "\n",
    "train_X, test_X, train_y, test_y = train_test_split(X, y, test_size=0.2, random_state=42)"
   ]
  }
 ],
 "metadata": {
  "kernelspec": {
   "display_name": "ML_env",
   "language": "python",
   "name": "python3"
  },
  "language_info": {
   "codemirror_mode": {
    "name": "ipython",
    "version": 3
   },
   "file_extension": ".py",
   "mimetype": "text/x-python",
   "name": "python",
   "nbconvert_exporter": "python",
   "pygments_lexer": "ipython3",
   "version": "3.11.9"
  }
 },
 "nbformat": 4,
 "nbformat_minor": 2
}
